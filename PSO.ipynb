{
 "cells": [
  {
   "cell_type": "markdown",
   "id": "21effb23-3820-4c2c-8f8e-bb8f1506c920",
   "metadata": {},
   "source": [
    "# **此程式為鳥群演算法(PSO)應用實作**\n",
    "#####   \n",
    "### **\\#我這邊挑選三項進行測試，分別是【DE JONG FUNCTION N. 5】、【RASTRIGIN】及【ROSENBROCK】**"
   ]
  },
  {
   "cell_type": "markdown",
   "id": "af1681c9-31ff-43da-a8a8-eb19e7f6709b",
   "metadata": {},
   "source": [
    "<img src=\"problems.png\" alt=\"drawing\" width=\"1500\"/></img>"
   ]
  },
  {
   "cell_type": "markdown",
   "id": "52e82d57-e88d-40d7-a638-558795aed473",
   "metadata": {},
   "source": [
    "### **\\#更多訊息可在 https://www.sfu.ca/~ssurjano/optimization.html 找到，裡面還有許多用來測試最佳化的Test Function**\n",
    "------------------------"
   ]
  },
  {
   "cell_type": "markdown",
   "id": "a1d9b908-ea33-430b-86e7-b9f1181299d5",
   "metadata": {},
   "source": [
    "## **定義問題**"
   ]
  },
  {
   "cell_type": "code",
   "execution_count": 1,
   "id": "5a0fd4ab-7fa8-4c3c-b2c5-28d56c25a165",
   "metadata": {},
   "outputs": [],
   "source": [
    "class DJ5:\n",
    "\n",
    "    name='DJ5'\n",
    "    dim=2\n",
    "    upperbound= 65.536\n",
    "    lowerbound= -65.536\n",
    "\n",
    "    a=[[-32., -16.,   0.,  16.,  32., -32., -16.,   0.,  16.,  32., -32.,\n",
    "        -16.,   0.,  16.,  32., -32., -16.,   0.,  16.,  32., -32., -16.,\n",
    "          0.,  16.,  32.],\n",
    "       [-32., -32., -32., -32., -32., -16., -16., -16., -16., -16.,   0.,\n",
    "          0.,   0.,   0.,   0.,  16.,  16.,  16.,  16.,  16.,  32.,  32.,\n",
    "         32.,  32.,  32.]]"
   ]
  },
  {
   "cell_type": "code",
   "execution_count": 2,
   "id": "1e5f2074-92c6-4df3-bedb-ce1e99ac7d7d",
   "metadata": {},
   "outputs": [],
   "source": [
    "class Rastrigin:\n",
    "\n",
    "    name='Rastrigin'\n",
    "    dim=10\n",
    "    upperbound= 5.12\n",
    "    lowerbound= -5.12"
   ]
  },
  {
   "cell_type": "code",
   "execution_count": 3,
   "id": "a24ec0fb-fad1-4f5a-9406-3ddda1d1dbc1",
   "metadata": {},
   "outputs": [],
   "source": [
    "class Rosenbrock:\n",
    "\n",
    "    name='Rosenbrock'\n",
    "    dim=10\n",
    "    upperbound= 2.048\n",
    "    lowerbound= -2.048"
   ]
  },
  {
   "cell_type": "markdown",
   "id": "8821e354-a600-4a40-9266-bf796a3f1dbb",
   "metadata": {},
   "source": [
    "-------------------\n",
    "## **PSO 開始**"
   ]
  },
  {
   "cell_type": "code",
   "execution_count": 4,
   "id": "5b8a45ca-cb17-48b7-b844-902ff46f5a98",
   "metadata": {},
   "outputs": [],
   "source": [
    "import sys\n",
    "import os\n",
    "import math\n",
    "import random\n",
    "import numpy as np"
   ]
  },
  {
   "cell_type": "markdown",
   "id": "f5cff4e0-f9cc-42e4-a6e6-e8fb2695bd83",
   "metadata": {},
   "source": [
    "### **1.定義各問題的fitness如何計算(可參照一開始的圖)**"
   ]
  },
  {
   "cell_type": "code",
   "execution_count": 5,
   "id": "bdb9d7ba-7a40-44bb-9280-492ee14b136a",
   "metadata": {},
   "outputs": [],
   "source": [
    "def fitness(problem,x):\n",
    "    match problem.name:\n",
    "        case 'DJ5':\n",
    "            for i in range(25):\n",
    "                sumterm2 = (x[0] - problem.a[0][i])**6\n",
    "                sumterm3 = (x[1]- problem.a[1][i])**6\n",
    "                total_sum = np.sum(1 / (i + sumterm2 + sumterm3))\n",
    "            y = 1 / (0.002 + total_sum)\n",
    "            return y\n",
    "        #--------------------    \n",
    "        case 'Rastrigin':\n",
    "            sum=0\n",
    "            for i in range(len(x)):\n",
    "                sum+=x[i]**2-(10*np.cos(2*np.pi*x[i]))\n",
    "            y = 10*len(x)+sum\n",
    "            return y\n",
    "        #--------------------       \n",
    "        case 'Rosenbrock':\n",
    "            sum=0\n",
    "            for i in range(len(x)-1):\n",
    "                sum+=100*(x[i+1]-x[i]**2)**2 + (x[i]-1)**2  \n",
    "            y = sum\n",
    "            return y"
   ]
  },
  {
   "cell_type": "markdown",
   "id": "3540f5b4-a71f-4cad-bde7-0b226359a418",
   "metadata": {},
   "source": [
    "### **2.初始化 & 各參數介紹**\n",
    "###### \n",
    "* #### Num_particle = 鳥群數量\n",
    "* #### particle = 鳥的位置。 例如當問題維度dim=2，particle[0] (第一隻鳥) 可能位於 [1.3 , 0.8] 這個點\n",
    "* #### p_fitness = 鳥的位置代入 f(x) 計算後得到的數值\n",
    "* #### p_best_pos = (鳥的) 歷史最佳位置\n",
    "* #### p_best_fitness = (鳥的) 歷史最佳 f(x)\n",
    "* #### l_best_pos = 鄰居歷史最佳位置 f(x)\n",
    "* #### l_best_fitness = 鄰居歷史最佳 f(x)\n",
    "* #### v = (可以理解為) 鳥的飛行速度\n",
    "* #### vmax = 速限，太大或太小都可能影響鳥尋找全域最佳解"
   ]
  },
  {
   "cell_type": "code",
   "execution_count": 6,
   "id": "843edc65-dc5c-47d2-853b-925ac7d9a184",
   "metadata": {},
   "outputs": [],
   "source": [
    "Num_particle=50"
   ]
  },
  {
   "cell_type": "code",
   "execution_count": 7,
   "id": "701b8894-8584-450d-9579-3a48c2a3ef8d",
   "metadata": {},
   "outputs": [],
   "source": [
    "def init(num,dim,ub,lb):\n",
    "    \n",
    "    \n",
    "    particle = [[0 for x in range(dim)] for y in range(Num_particle)]\n",
    "    p_fitness = [sys.float_info.max]*Num_particle\n",
    "    \n",
    "    p_best_pos =[[0 for x in range(dim)] for y in range(Num_particle)]\n",
    "    p_best_fitness = [sys.float_info.max]*Num_particle\n",
    "    \n",
    "    l_best_pos= [[0 for x in range(dim)] for y in range(Num_particle)]\n",
    "    l_best_fitness = [sys.float_info.max]*Num_particle\n",
    "    \n",
    "    v=[[0 for x in range(dim)] for y in range(Num_particle)]\n",
    "    vmax=(ub - lb) * 0.15\n",
    "    \n",
    "    for i in range(Num_particle):\n",
    "        for j in range(dim):\n",
    "            rd=random.uniform(0,1)\n",
    "            #在上下限中隨機給定鳥的速率\n",
    "            particle[i][j] = lb + rd * (ub - lb)\n",
    "            v[i][j] = rd * (ub - lb) * 0.1\n",
    "        \n",
    "    return particle, p_fitness, p_best_pos, p_best_fitness, l_best_pos, l_best_fitness, v, vmax"
   ]
  },
  {
   "cell_type": "markdown",
   "id": "a4e47b83-66bf-4036-aa14-67d7339f4c67",
   "metadata": {},
   "source": [
    "### **3.訓練(飛行，尋找解的過程)**\n",
    "###### \n",
    "#### **這邊採用的是Lbest (ring)。**\n",
    "##### **圖源 https://link.springer.com/article/10.1007/s00521-019-04527-9**\n",
    "<img src=\"topology.png\" alt=\"drawing\" width=\"700\"/></img>"
   ]
  },
  {
   "cell_type": "code",
   "execution_count": 8,
   "id": "8bcb960e-3c99-4b40-9155-21fba4f8b323",
   "metadata": {},
   "outputs": [],
   "source": [
    "def fly(problem,maxcycle):\n",
    "\n",
    "    #初始化\n",
    "    particle, p_fitness, p_best_pos, p_best_fitness,l_best_pos, l_best_fitness, v, vmax = init(Num_particle,problem.dim,problem.upperbound,problem.lowerbound)\n",
    "    \n",
    "    #這裡的gbest是用來回傳結果的，並不是拿來訓練鳥指標\n",
    "    gbest_fitness=sys.float_info.max\n",
    "    gbest_pos=[sys.float_info.max]*Num_particle\n",
    "\n",
    "    #開始飛行\n",
    "    for currentcycle in range(round(maxcycle/Num_particle)):\n",
    "\n",
    "        #計算每一隻鳥當前的fitness，並更新歷史最佳位置\n",
    "        for i in range(Num_particle):\n",
    "            p_fitness[i] = fitness(problem,particle[i])\n",
    "            if (p_fitness[i] < p_best_fitness[i]):\n",
    "                p_best_fitness[i] = p_fitness[i]\n",
    "                for j in range(problem.dim):\n",
    "                    p_best_pos[i][j] = particle[i][j]\n",
    "\n",
    "        #---lbest---\n",
    "        # 開始向鄰居確認\n",
    "        for i in range(Num_particle):\n",
    "\n",
    "            #向左右兩邊各6位鄰居索討訊息\n",
    "            nei = 6\n",
    "              \n",
    "            #起始鄰居是第幾隻鳥\n",
    "            head = i - nei\n",
    "\n",
    "            #超出索引界限處理\n",
    "            if (head < 0):\n",
    "                head = Num_particle+(i - nei)\n",
    "                \n",
    "            #鄰居最佳位置\n",
    "            best_bird = 0\n",
    "            #鄰居最佳fitness\n",
    "            findmin = sys.float_info.max\n",
    "            \n",
    "            for j in range(2*nei+1):\n",
    "                current_bird = head+j\n",
    "                #超出索引界限處理\n",
    "                if head+j >= Num_particle:\n",
    "                    current_bird=Num_particle-(head+j)\n",
    "                #找鄰居中最好的fitness(包含自己)\n",
    "                if (p_best_fitness[current_bird] < findmin):\n",
    "                    findmin = p_best_fitness[current_bird]\n",
    "                    #更新最好的鄰居位置\n",
    "                    best_bird = current_bird\n",
    "                    \n",
    "            #紀錄歷史最佳鄰居位置\n",
    "            for j in range(problem.dim):\n",
    "                l_best_pos[i][j] = p_best_pos[best_bird][j]\n",
    "            #紀錄歷史最佳鄰居fitness   \n",
    "            l_best_fitness[i]=findmin\n",
    "            \n",
    "            #若鄰居最佳勝過全域，更新全域fitness及位置\n",
    "            if (l_best_fitness[i] < gbest_fitness):\n",
    "                gbest_fitness = l_best_fitness[i]\n",
    "                gbest_pos=l_best_pos[i]\n",
    "                \n",
    "            #更新鳥的飛行速度與位置\n",
    "            rd=random.uniform(0,1) \n",
    "            for j in range(problem.dim):\n",
    "                v[i][j] = v[i][j] * 0.7298 + 1.496 * rd* (p_best_pos[i][j] - particle[i][j]) + 1.496 * rd * (l_best_pos[i][j] - particle[i][j])\n",
    "                if (v[i][j] > vmax):\n",
    "                    v[i][j] = vmax\n",
    "                if (v[i][j] < -vmax):\n",
    "                    v[i][j] = -vmax\n",
    "                particle[i][j] = particle[i][j] + v[i][j]\n",
    "                if (particle[i][j] > problem.upperbound ):\n",
    "                    particle[i][j] = problem.upperbound\n",
    "                if (particle[i][j] < problem.lowerbound):\n",
    "                    particle[i][j] = problem.lowerbound    \n",
    "    return gbest_fitness,gbest_pos"
   ]
  },
  {
   "cell_type": "markdown",
   "id": "05353d58-d4c6-4e00-b32e-2e1d4df0b0c1",
   "metadata": {},
   "source": [
    "### **4.求解**"
   ]
  },
  {
   "cell_type": "code",
   "execution_count": 9,
   "id": "e682aea6-2859-4853-8f38-dfc730453d67",
   "metadata": {},
   "outputs": [
    {
     "name": "stdout",
     "output_type": "stream",
     "text": [
      "問題: DJ5 , 全域最佳解f(x)= 22.9 , 此時x=: [32.0, 32.0]\n",
      "-----------------------------------\n",
      "問題: Rastrigin , 全域最佳解f(x)= 2.3 , 此時x=: [-0.02, -0.0, 0.0, -0.98, 0.0, 0.02, 0.01, 1.01, -0.01, 0.01]\n",
      "-----------------------------------\n",
      "問題: Rosenbrock , 全域最佳解f(x)= 0.0 , 此時x=: [1.0, 1.0, 1.0, 1.0, 1.0, 1.0, 1.0, 1.0, 0.99, 0.99]\n",
      "-----------------------------------\n"
     ]
    }
   ],
   "source": [
    "problems=[DJ5(),Rastrigin(),Rosenbrock()]\n",
    "\n",
    "for i in problems:\n",
    "    #總共要run幾回合\n",
    "    num_Repetitive_Runs=3\n",
    "\n",
    "    #全域最佳fitness\n",
    "    AllGlobalBestFitness = sys.float_info.max\n",
    "    \n",
    "    #擁有全域最佳fitness的 鳥的位置\n",
    "    AllGlobalsolution=[]\n",
    "\n",
    "    for run in range(num_Repetitive_Runs):\n",
    "        #飛行\n",
    "        run_Best_fitness, solution=fly(i,60000)\n",
    "\n",
    "        #當這回合的fitness勝過全域最佳時，更新全域最佳\n",
    "        if (run_Best_fitness < AllGlobalBestFitness ):\n",
    "            AllGlobalBestFitness = run_Best_fitness\n",
    "            AllGlobalsolution = solution\n",
    "            \n",
    "    print(\"問題:\",i.name,\", 全域最佳解f(x)=\",round(AllGlobalBestFitness,1),\", 此時x=:\",[round(x,2) for x in AllGlobalsolution])\n",
    "    print(\"-----------------------------------\")"
   ]
  },
  {
   "cell_type": "markdown",
   "id": "ae5e67cc-76c8-47e2-a68f-95336ed509d9",
   "metadata": {},
   "source": [
    "-------------------------\n",
    "## **\\#討論**\n",
    "###### \n",
    "#### **根據開頭的網址，可以找到除了 DE JONG FUNCTION N. 5以外的兩function的最佳解，分別為:**\n",
    "* #### **Rastrigin**\n",
    "><img src=\"Rastrigin_minimum.jpg\" alt=\"drawing\" width=\"200\"/></img>\n",
    "* #### **Rosenbrock**\n",
    "><img src=\"Rosenbrock_minimum.jpg\" alt=\"drawing\" width=\"200\"/></img>\n",
    "\n",
    "#### **對比結果會發現仍有一點距離，可能的改善方式大概有:**\n",
    "#### **1.調整鳥群數量、迭代次數**\n",
    "#### **2.採用Gbest+Lbest的做法，亦或是其他變種優化過的PSO，本文就不再贅述，感謝觀看**"
   ]
  },
  {
   "cell_type": "code",
   "execution_count": null,
   "id": "e1beb73c-43fb-424f-89f2-99a057d5288e",
   "metadata": {},
   "outputs": [],
   "source": []
  }
 ],
 "metadata": {
  "kernelspec": {
   "display_name": "Python 3 (ipykernel)",
   "language": "python",
   "name": "python3"
  },
  "language_info": {
   "codemirror_mode": {
    "name": "ipython",
    "version": 3
   },
   "file_extension": ".py",
   "mimetype": "text/x-python",
   "name": "python",
   "nbconvert_exporter": "python",
   "pygments_lexer": "ipython3",
   "version": "3.11.5"
  }
 },
 "nbformat": 4,
 "nbformat_minor": 5
}
